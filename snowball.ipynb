{
  "cells": [
    {
      "cell_type": "code",
      "execution_count": 41,
      "outputs": [
        {
          "name": "stdout",
          "text": [
            "标的资产   000001.SH\n敲出比例   1.0\n敲入比例   0.8\n期限   12\n回测起始时间   20100101\n回测终止时间   20200522\n"
          ],
          "output_type": "stream"
        }
      ],
      "source": "\u0027\u0027\u0027\n设置全局的变量\n导入包\n\u0027\u0027\u0027\nimport tushare as ts\nimport datetime\nfrom dateutil.relativedelta import relativedelta\n\n# 全局的业务变量\nclass BusinessVal:\n    # 标的资产，暂时只支持标的资产是一种指数\n    underlyingAsset \u003d \u0027000001.SH\u0027\n    # 敲出比例\n    knockOutRatio \u003d 1.00\n    # 敲入比例\n    knockInRatio \u003d 0.80\n    # 期限，单位是月\n    timeLimit \u003d 12\n    # start_date\n    startDate \u003d \u002720100101\u0027\n    # end_date\n    endDate\u003d\u002720200522\u0027\n    # 月利率\n    monthlyRate \u003d 0.1\n    # 保证金\n    deposit \u003d 20\n    # 名义本金倍数，名义本金除以保证金\n    multiple \u003d 5\n\n# 全局的技术变量\nclass TechVal:\n    # tushare_token\n    tushareToken \u003d \u002719280d5f247ae49caae39e24a4363308c5396514275535ed770716c2\u0027\n\n# 初始化 tushare\nts.set_token(TechVal.tushareToken)\npro \u003d ts.pro_api()\n\nprint(\u0027标的资产   \u0027 + BusinessVal.underlyingAsset)\nprint(\u0027敲出比例   \u0027 + str(BusinessVal.knockOutRatio))\nprint(\u0027敲入比例   \u0027 + str(BusinessVal.knockInRatio))\nprint(\u0027期限   \u0027 + str(BusinessVal.timeLimit))\nprint(\u0027回测起始时间   \u0027 + BusinessVal.startDate)\nprint(\u0027回测终止时间   \u0027 + BusinessVal.endDate)\n",
      "metadata": {
        "pycharm": {
          "metadata": false,
          "name": "#%% \n",
          "is_executing": false
        }
      }
    },
    {
      "cell_type": "code",
      "execution_count": 43,
      "metadata": {
        "collapsed": true,
        "pycharm": {
          "is_executing": false
        }
      },
      "outputs": [
        {
          "name": "stdout",
          "text": [
            "        ts_code trade_date      close       open       high        low  \\\n2522  000001.SH   20100104  3243.7600  3289.7500  3295.2790  3243.3190   \n2521  000001.SH   20100105  3282.1790  3254.4680  3290.5120  3221.4620   \n2520  000001.SH   20100106  3254.2150  3277.5170  3295.8680  3253.0440   \n2519  000001.SH   20100107  3192.7760  3253.9910  3268.8190  3176.7070   \n2518  000001.SH   20100108  3195.9970  3177.2590  3198.9200  3149.0170   \n...         ...        ...        ...        ...        ...        ...   \n4     000001.SH   20200518  2875.4176  2872.5244  2889.9795  2862.2709   \n3     000001.SH   20200519  2898.5760  2897.6867  2900.2187  2887.5768   \n2     000001.SH   20200520  2883.7378  2896.4657  2896.4657  2876.1766   \n1     000001.SH   20200521  2867.9237  2890.7213  2891.5177  2864.2073   \n0     000001.SH   20200522  2813.7654  2863.0462  2863.0462  2808.0177   \n\n      pre_close   change  pct_chg          vol        amount  \n2522  3277.1390 -33.3790  -1.0185  109447927.0  1.337735e+08  \n2521  3243.7600  38.4190   1.1844  126115066.0  1.618582e+08  \n2520  3282.1790 -27.9640  -0.8520  123651384.0  1.580401e+08  \n2519  3254.2150 -61.4390  -1.8880  128652827.0  1.572296e+08  \n2518  3192.7760   3.2210   0.1009   98377147.0  1.217399e+08  \n...         ...      ...      ...          ...           ...  \n4     2868.4587   6.9589   0.2426  226022882.0  2.890896e+08  \n3     2875.4176  23.1584   0.8054  197222405.0  2.562778e+08  \n2     2898.5760 -14.8382  -0.5119  210519985.0  2.691766e+08  \n1     2883.7378 -15.8141  -0.5484  203532038.0  2.505699e+08  \n0     2867.9237 -54.1583  -1.8884  209063712.0  2.452296e+08  \n\n[2523 rows x 11 columns]\n"
          ],
          "output_type": "stream"
        }
      ],
      "source": "\u0027\u0027\u0027\n获取行情数据\n\u0027\u0027\u0027\nquote \u003d pro.index_daily(ts_code\u003dBusinessVal.underlyingAsset, start_date \u003d BusinessVal.startDate, end_date\u003dBusinessVal.endDate)\n# 行反转\nquote \u003d quote.reindex(index\u003dquote.index[::-1])\nprint(quote)\n"
    },
    {
      "cell_type": "code",
      "execution_count": 44,
      "outputs": [
        {
          "name": "stdout",
          "text": [
            "     exchange  cal_date  is_open\n0         SSE  19901219        1\n1         SSE  19901220        1\n2         SSE  19901221        1\n3         SSE  19901224        1\n4         SSE  19901225        1\n...       ...       ...      ...\n7338      SSE  20201225        1\n7339      SSE  20201228        1\n7340      SSE  20201229        1\n7341      SSE  20201230        1\n7342      SSE  20201231        1\n\n[7343 rows x 3 columns]\n"
          ],
          "output_type": "stream"
        }
      ],
      "source": "\u0027\u0027\u0027\n定义一个函数，获取最近的一个交易日\n\u0027\u0027\u0027\n# 交易日历\ntradeCalendar \u003d pro.trade_cal(is_open\u003d\u00271\u0027)\nprint(tradeCalendar)\n\ndef getLeastTradeDate(searchData):\n    \u0027\u0027\u0027\n    获取searchData的在未来最近一个交易日\n    :param searchData: 传入日期\n    :return: outDate\n    \u0027\u0027\u0027\n    \n    # 如果结果是空，说明inData不是交易日\n    while (tradeCalendar.loc[tradeCalendar[\u0027cal_date\u0027] \u003d\u003d searchData]).empty:\n        searchData \u003d (datetime.datetime.strptime(searchData,\u0027%Y%m%d\u0027) + relativedelta(days\u003d1)).strftime(\u0027%Y%m%d\u0027)\n    \n    rntDate \u003d searchData\n    return rntDate\n\ndef isTradeDate(checkDate):\n    \u0027\u0027\u0027\n    判断checkData是否是交易日\n    :param checkDate: \n    :return: \n    \u0027\u0027\u0027\n    \n    ",
      "metadata": {
        "pycharm": {
          "metadata": false,
          "name": "#%%\n",
          "is_executing": false
        }
      }
    },
    {
      "cell_type": "code",
      "execution_count": 46,
      "outputs": [],
      "source": "# 模拟\ndef simulate(anchorDay,anchorPrice,knockOutPrice,knockInPrice,observeList):\n    \u0027\u0027\u0027\n    模拟\n    :param anchorDay: 锚定日期\n    :param anchorPrice: 锚定价格\n    :param knockOutPrice: 敲出价格\n    :param knockInPrice: 敲入价格\n    :param observeList: 观察日列表\n    :return: 生成word文档\n    \u0027\u0027\u0027\n    # 是否曾经敲入过\n    isKnockIn \u003d False\n    # 是否曾经敲出过\n    isKnockOut \u003d False\n    \n    ",
      "metadata": {
        "pycharm": {
          "metadata": false,
          "name": "#%%\n",
          "is_executing": false
        }
      }
    },
    {
      "cell_type": "code",
      "execution_count": 48,
      "outputs": [
        {
          "name": "stdout",
          "text": [
            "ts_code         000001.SH\ntrade_date       20100104\nclose             3243.76\nopen              3289.75\nhigh              3295.28\nlow               3243.32\npre_close         3277.14\nchange            -33.379\npct_chg           -1.0185\nvol           1.09448e+08\namount        1.33773e+08\nName: 2522, dtype: object\n20100104\n3243.76\n3243.76\n2595.0080000000003\n[\u002720100204\u0027, \u002720100304\u0027, \u002720100406\u0027, \u002720100504\u0027, \u002720100604\u0027, \u002720100705\u0027, \u002720100804\u0027, \u002720100906\u0027, \u002720101008\u0027, \u002720101104\u0027, \u002720101206\u0027, \u002720110104\u0027]\n"
          ],
          "output_type": "stream"
        },
        {
          "traceback": [
            "\u001b[1;31m---------------------------------------------------------------------------\u001b[0m",
            "\u001b[1;31mTypeError\u001b[0m                                 Traceback (most recent call last)",
            "\u001b[1;32mc:\\python\\python37-32\\lib\\site-packages\\pandas\\core\\ops\\array_ops.py\u001b[0m in \u001b[0;36mna_logical_op\u001b[1;34m(x, y, op)\u001b[0m\n\u001b[0;32m    273\u001b[0m         \u001b[1;31m#  (xint or xbool) and (yint or bool)\u001b[0m\u001b[1;33m\u001b[0m\u001b[1;33m\u001b[0m\u001b[1;33m\u001b[0m\u001b[0m\n\u001b[1;32m--\u003e 274\u001b[1;33m         \u001b[0mresult\u001b[0m \u001b[1;33m\u003d\u001b[0m \u001b[0mop\u001b[0m\u001b[1;33m(\u001b[0m\u001b[0mx\u001b[0m\u001b[1;33m,\u001b[0m \u001b[0my\u001b[0m\u001b[1;33m)\u001b[0m\u001b[1;33m\u001b[0m\u001b[1;33m\u001b[0m\u001b[0m\n\u001b[0m\u001b[0;32m    275\u001b[0m     \u001b[1;32mexcept\u001b[0m \u001b[0mTypeError\u001b[0m\u001b[1;33m:\u001b[0m\u001b[1;33m\u001b[0m\u001b[1;33m\u001b[0m\u001b[0m\n",
            "\u001b[1;32mc:\\python\\python37-32\\lib\\site-packages\\pandas\\core\\ops\\roperator.py\u001b[0m in \u001b[0;36mrand_\u001b[1;34m(left, right)\u001b[0m\n\u001b[0;32m     51\u001b[0m \u001b[1;32mdef\u001b[0m \u001b[0mrand_\u001b[0m\u001b[1;33m(\u001b[0m\u001b[0mleft\u001b[0m\u001b[1;33m,\u001b[0m \u001b[0mright\u001b[0m\u001b[1;33m)\u001b[0m\u001b[1;33m:\u001b[0m\u001b[1;33m\u001b[0m\u001b[1;33m\u001b[0m\u001b[0m\n\u001b[1;32m---\u003e 52\u001b[1;33m     \u001b[1;32mreturn\u001b[0m \u001b[0moperator\u001b[0m\u001b[1;33m.\u001b[0m\u001b[0mand_\u001b[0m\u001b[1;33m(\u001b[0m\u001b[0mright\u001b[0m\u001b[1;33m,\u001b[0m \u001b[0mleft\u001b[0m\u001b[1;33m)\u001b[0m\u001b[1;33m\u001b[0m\u001b[1;33m\u001b[0m\u001b[0m\n\u001b[0m\u001b[0;32m     53\u001b[0m \u001b[1;33m\u001b[0m\u001b[0m\n",
            "\u001b[1;31mTypeError\u001b[0m: unsupported operand type(s) for \u0026: \u0027str\u0027 and \u0027str\u0027",
            "\nDuring handling of the above exception, another exception occurred:\n",
            "\u001b[1;31mTypeError\u001b[0m                                 Traceback (most recent call last)",
            "\u001b[1;32mc:\\python\\python37-32\\lib\\site-packages\\pandas\\core\\ops\\array_ops.py\u001b[0m in \u001b[0;36mna_logical_op\u001b[1;34m(x, y, op)\u001b[0m\n\u001b[0;32m    287\u001b[0m             \u001b[1;32mtry\u001b[0m\u001b[1;33m:\u001b[0m\u001b[1;33m\u001b[0m\u001b[1;33m\u001b[0m\u001b[0m\n\u001b[1;32m--\u003e 288\u001b[1;33m                 \u001b[0mresult\u001b[0m \u001b[1;33m\u003d\u001b[0m \u001b[0mlibops\u001b[0m\u001b[1;33m.\u001b[0m\u001b[0mscalar_binop\u001b[0m\u001b[1;33m(\u001b[0m\u001b[0mx\u001b[0m\u001b[1;33m,\u001b[0m \u001b[0my\u001b[0m\u001b[1;33m,\u001b[0m \u001b[0mop\u001b[0m\u001b[1;33m)\u001b[0m\u001b[1;33m\u001b[0m\u001b[1;33m\u001b[0m\u001b[0m\n\u001b[0m\u001b[0;32m    289\u001b[0m             except (\n",
            "\u001b[1;32mpandas\\_libs\\ops.pyx\u001b[0m in \u001b[0;36mpandas._libs.ops.scalar_binop\u001b[1;34m()\u001b[0m\n",
            "\u001b[1;32mc:\\python\\python37-32\\lib\\site-packages\\pandas\\core\\ops\\roperator.py\u001b[0m in \u001b[0;36mrand_\u001b[1;34m(left, right)\u001b[0m\n\u001b[0;32m     51\u001b[0m \u001b[1;32mdef\u001b[0m \u001b[0mrand_\u001b[0m\u001b[1;33m(\u001b[0m\u001b[0mleft\u001b[0m\u001b[1;33m,\u001b[0m \u001b[0mright\u001b[0m\u001b[1;33m)\u001b[0m\u001b[1;33m:\u001b[0m\u001b[1;33m\u001b[0m\u001b[1;33m\u001b[0m\u001b[0m\n\u001b[1;32m---\u003e 52\u001b[1;33m     \u001b[1;32mreturn\u001b[0m \u001b[0moperator\u001b[0m\u001b[1;33m.\u001b[0m\u001b[0mand_\u001b[0m\u001b[1;33m(\u001b[0m\u001b[0mright\u001b[0m\u001b[1;33m,\u001b[0m \u001b[0mleft\u001b[0m\u001b[1;33m)\u001b[0m\u001b[1;33m\u001b[0m\u001b[1;33m\u001b[0m\u001b[0m\n\u001b[0m\u001b[0;32m     53\u001b[0m \u001b[1;33m\u001b[0m\u001b[0m\n",
            "\u001b[1;31mTypeError\u001b[0m: unsupported operand type(s) for \u0026: \u0027bool\u0027 and \u0027str\u0027",
            "\nDuring handling of the above exception, another exception occurred:\n",
            "\u001b[1;31mTypeError\u001b[0m                                 Traceback (most recent call last)",
            "\u001b[1;32m\u003cipython-input-48-67fd166a6959\u003e\u001b[0m in \u001b[0;36m\u003cmodule\u003e\u001b[1;34m\u001b[0m\n\u001b[0;32m     20\u001b[0m     \u001b[0mprint\u001b[0m\u001b[1;33m(\u001b[0m\u001b[0mobserveList\u001b[0m\u001b[1;33m)\u001b[0m\u001b[1;33m\u001b[0m\u001b[1;33m\u001b[0m\u001b[0m\n\u001b[0;32m     21\u001b[0m     \u001b[1;31m# 交易日列表\u001b[0m\u001b[1;33m\u001b[0m\u001b[1;33m\u001b[0m\u001b[1;33m\u001b[0m\u001b[0m\n\u001b[1;32m---\u003e 22\u001b[1;33m     \u001b[0mtradeDf\u001b[0m \u001b[1;33m\u003d\u001b[0m \u001b[0mtradeCalendar\u001b[0m\u001b[1;33m.\u001b[0m\u001b[0mloc\u001b[0m\u001b[1;33m[\u001b[0m\u001b[0mtradeCalendar\u001b[0m\u001b[1;33m[\u001b[0m\u001b[1;34m\u0027cal_date\u0027\u001b[0m\u001b[1;33m]\u001b[0m \u001b[1;33m\u003e\u003d\u001b[0m \u001b[0manchorDay\u001b[0m \u001b[1;33m\u0026\u001b[0m \u001b[0mtradeCalendar\u001b[0m\u001b[1;33m[\u001b[0m\u001b[1;34m\u0027cal_date\u0027\u001b[0m\u001b[1;33m]\u001b[0m \u001b[1;33m\u003c\u003d\u001b[0m \u001b[0mobserveList\u001b[0m\u001b[1;33m[\u001b[0m\u001b[1;33m-\u001b[0m\u001b[1;36m1\u001b[0m\u001b[1;33m]\u001b[0m\u001b[1;33m]\u001b[0m\u001b[1;33m\u001b[0m\u001b[1;33m\u001b[0m\u001b[0m\n\u001b[0m\u001b[0;32m     23\u001b[0m     \u001b[0mprint\u001b[0m\u001b[1;33m(\u001b[0m\u001b[0mtradeDf\u001b[0m\u001b[1;33m)\u001b[0m\u001b[1;33m\u001b[0m\u001b[1;33m\u001b[0m\u001b[0m\n\u001b[0;32m     24\u001b[0m     \u001b[1;32mbreak\u001b[0m\u001b[1;33m;\u001b[0m\u001b[1;33m\u001b[0m\u001b[1;33m\u001b[0m\u001b[0m\n",
            "\u001b[1;32mc:\\python\\python37-32\\lib\\site-packages\\pandas\\core\\ops\\common.py\u001b[0m in \u001b[0;36mnew_method\u001b[1;34m(self, other)\u001b[0m\n\u001b[0;32m     62\u001b[0m         \u001b[0mother\u001b[0m \u001b[1;33m\u003d\u001b[0m \u001b[0mitem_from_zerodim\u001b[0m\u001b[1;33m(\u001b[0m\u001b[0mother\u001b[0m\u001b[1;33m)\u001b[0m\u001b[1;33m\u001b[0m\u001b[1;33m\u001b[0m\u001b[0m\n\u001b[0;32m     63\u001b[0m \u001b[1;33m\u001b[0m\u001b[0m\n\u001b[1;32m---\u003e 64\u001b[1;33m         \u001b[1;32mreturn\u001b[0m \u001b[0mmethod\u001b[0m\u001b[1;33m(\u001b[0m\u001b[0mself\u001b[0m\u001b[1;33m,\u001b[0m \u001b[0mother\u001b[0m\u001b[1;33m)\u001b[0m\u001b[1;33m\u001b[0m\u001b[1;33m\u001b[0m\u001b[0m\n\u001b[0m\u001b[0;32m     65\u001b[0m \u001b[1;33m\u001b[0m\u001b[0m\n\u001b[0;32m     66\u001b[0m     \u001b[1;32mreturn\u001b[0m \u001b[0mnew_method\u001b[0m\u001b[1;33m\u001b[0m\u001b[1;33m\u001b[0m\u001b[0m\n",
            "\u001b[1;32mc:\\python\\python37-32\\lib\\site-packages\\pandas\\core\\ops\\__init__.py\u001b[0m in \u001b[0;36mwrapper\u001b[1;34m(self, other)\u001b[0m\n\u001b[0;32m    550\u001b[0m         \u001b[0mrvalues\u001b[0m \u001b[1;33m\u003d\u001b[0m \u001b[0mextract_array\u001b[0m\u001b[1;33m(\u001b[0m\u001b[0mother\u001b[0m\u001b[1;33m,\u001b[0m \u001b[0mextract_numpy\u001b[0m\u001b[1;33m\u003d\u001b[0m\u001b[1;32mTrue\u001b[0m\u001b[1;33m)\u001b[0m\u001b[1;33m\u001b[0m\u001b[1;33m\u001b[0m\u001b[0m\n\u001b[0;32m    551\u001b[0m \u001b[1;33m\u001b[0m\u001b[0m\n\u001b[1;32m--\u003e 552\u001b[1;33m         \u001b[0mres_values\u001b[0m \u001b[1;33m\u003d\u001b[0m \u001b[0mlogical_op\u001b[0m\u001b[1;33m(\u001b[0m\u001b[0mlvalues\u001b[0m\u001b[1;33m,\u001b[0m \u001b[0mrvalues\u001b[0m\u001b[1;33m,\u001b[0m \u001b[0mop\u001b[0m\u001b[1;33m)\u001b[0m\u001b[1;33m\u001b[0m\u001b[1;33m\u001b[0m\u001b[0m\n\u001b[0m\u001b[0;32m    553\u001b[0m         \u001b[1;32mreturn\u001b[0m \u001b[0m_construct_result\u001b[0m\u001b[1;33m(\u001b[0m\u001b[0mself\u001b[0m\u001b[1;33m,\u001b[0m \u001b[0mres_values\u001b[0m\u001b[1;33m,\u001b[0m \u001b[0mindex\u001b[0m\u001b[1;33m\u003d\u001b[0m\u001b[0mself\u001b[0m\u001b[1;33m.\u001b[0m\u001b[0mindex\u001b[0m\u001b[1;33m,\u001b[0m \u001b[0mname\u001b[0m\u001b[1;33m\u003d\u001b[0m\u001b[0mres_name\u001b[0m\u001b[1;33m)\u001b[0m\u001b[1;33m\u001b[0m\u001b[1;33m\u001b[0m\u001b[0m\n\u001b[0;32m    554\u001b[0m \u001b[1;33m\u001b[0m\u001b[0m\n",
            "\u001b[1;32mc:\\python\\python37-32\\lib\\site-packages\\pandas\\core\\ops\\array_ops.py\u001b[0m in \u001b[0;36mlogical_op\u001b[1;34m(left, right, op)\u001b[0m\n\u001b[0;32m    364\u001b[0m         \u001b[0mfiller\u001b[0m \u001b[1;33m\u003d\u001b[0m \u001b[0mfill_int\u001b[0m \u001b[1;32mif\u001b[0m \u001b[0mis_self_int_dtype\u001b[0m \u001b[1;32mand\u001b[0m \u001b[0mis_other_int_dtype\u001b[0m \u001b[1;32melse\u001b[0m \u001b[0mfill_bool\u001b[0m\u001b[1;33m\u001b[0m\u001b[1;33m\u001b[0m\u001b[0m\n\u001b[0;32m    365\u001b[0m \u001b[1;33m\u001b[0m\u001b[0m\n\u001b[1;32m--\u003e 366\u001b[1;33m         \u001b[0mres_values\u001b[0m \u001b[1;33m\u003d\u001b[0m \u001b[0mna_logical_op\u001b[0m\u001b[1;33m(\u001b[0m\u001b[0mlvalues\u001b[0m\u001b[1;33m,\u001b[0m \u001b[0mrvalues\u001b[0m\u001b[1;33m,\u001b[0m \u001b[0mop\u001b[0m\u001b[1;33m)\u001b[0m\u001b[1;33m\u001b[0m\u001b[1;33m\u001b[0m\u001b[0m\n\u001b[0m\u001b[0;32m    367\u001b[0m         \u001b[0mres_values\u001b[0m \u001b[1;33m\u003d\u001b[0m \u001b[0mfiller\u001b[0m\u001b[1;33m(\u001b[0m\u001b[0mres_values\u001b[0m\u001b[1;33m)\u001b[0m  \u001b[1;31m# type: ignore\u001b[0m\u001b[1;33m\u001b[0m\u001b[1;33m\u001b[0m\u001b[0m\n\u001b[0;32m    368\u001b[0m \u001b[1;33m\u001b[0m\u001b[0m\n",
            "\u001b[1;32mc:\\python\\python37-32\\lib\\site-packages\\pandas\\core\\ops\\array_ops.py\u001b[0m in \u001b[0;36mna_logical_op\u001b[1;34m(x, y, op)\u001b[0m\n\u001b[0;32m    296\u001b[0m                 \u001b[0mtyp\u001b[0m \u001b[1;33m\u003d\u001b[0m \u001b[0mtype\u001b[0m\u001b[1;33m(\u001b[0m\u001b[0my\u001b[0m\u001b[1;33m)\u001b[0m\u001b[1;33m.\u001b[0m\u001b[0m__name__\u001b[0m\u001b[1;33m\u001b[0m\u001b[1;33m\u001b[0m\u001b[0m\n\u001b[0;32m    297\u001b[0m                 raise TypeError(\n\u001b[1;32m--\u003e 298\u001b[1;33m                     \u001b[1;34mf\"Cannot perform \u0027{op.__name__}\u0027 with a dtyped [{x.dtype}] array \"\u001b[0m\u001b[1;33m\u001b[0m\u001b[1;33m\u001b[0m\u001b[0m\n\u001b[0m\u001b[0;32m    299\u001b[0m                     \u001b[1;34mf\"and scalar of type [{typ}]\"\u001b[0m\u001b[1;33m\u001b[0m\u001b[1;33m\u001b[0m\u001b[0m\n\u001b[0;32m    300\u001b[0m                 )\n",
            "\u001b[1;31mTypeError\u001b[0m: Cannot perform \u0027rand_\u0027 with a dtyped [object] array and scalar of type [bool]"
          ],
          "ename": "TypeError",
          "evalue": "Cannot perform \u0027rand_\u0027 with a dtyped [object] array and scalar of type [bool]",
          "output_type": "error"
        }
      ],
      "source": "\nfor index, row in quote.iterrows():\n    print(row)\n    # 锚定日期\n    anchorDay \u003d row[\u0027trade_date\u0027]\n    print(anchorDay)\n    # 锚定价格\n    anchorPrice \u003d row[\u0027close\u0027]\n    print(anchorPrice)\n    # 敲出价格\n    knockOutPrice \u003d anchorPrice * knockOutRatio\n    print(knockOutPrice)\n    # 敲入价格\n    knockInPrice \u003d anchorPrice * knockInRatio\n    print(knockInPrice)\n    # 观察日列表\n    observeList \u003d []\n    for i in range(1,BusinessVal.timeLimit + 1,1):\n        observeList.append(getLeastTradeDate((datetime.datetime.strptime(anchorDay,\u0027%Y%m%d\u0027) + relativedelta(months\u003di)).strftime(\u0027%Y%m%d\u0027)))\n    print(observeList)\n    break;",
      "metadata": {
        "pycharm": {
          "metadata": false,
          "name": "#%%\n",
          "is_executing": false
        }
      }
    }
  ],
  "metadata": {
    "language_info": {
      "codemirror_mode": {
        "name": "ipython",
        "version": 2
      },
      "file_extension": ".py",
      "mimetype": "text/x-python",
      "name": "python",
      "nbconvert_exporter": "python",
      "pygments_lexer": "ipython2",
      "version": "2.7.6"
    },
    "kernelspec": {
      "name": "python3",
      "language": "python",
      "display_name": "Python 3"
    },
    "stem_cell": {
      "cell_type": "raw",
      "source": "",
      "metadata": {
        "pycharm": {
          "metadata": false
        }
      }
    }
  },
  "nbformat": 4,
  "nbformat_minor": 0
}