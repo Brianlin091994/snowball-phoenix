{
  "cells": [
    {
      "cell_type": "code",
      "execution_count": 23,
      "outputs": [
        {
          "name": "stdout",
          "text": [
            "标的资产   000001.SH\n敲出比例   1.0\n敲入比例   0.8\n期限   12\n"
          ],
          "output_type": "stream"
        }
      ],
      "source": "\u0027\u0027\u0027\n设置全局的变量\n导入包\n\u0027\u0027\u0027\nimport tushare as ts\nimport pandas as pd\nimport numpy as np\n\n# 全局的业务变量\nclass BusinessVal:\n    # 标的资产，暂时只支持标的资产是一种指数\n    underlyingAsset \u003d \u0027000001.SH\u0027\n    # 敲出比例\n    knockOutRatio \u003d 1.00\n    # 敲入比例\n    knockInRatio \u003d 0.80\n    # 期限，单位是月\n    timeLimit \u003d 12\n    # start_date\n    startDate \u003d \u002720100101\u0027\n    # end_date\n    endDate\u003d\u002720200522\u0027\n\n# 全局的技术变量\nclass TechVal:\n    # tushare_tokem\n    tushareToken \u003d \u002719280d5f247ae49caae39e24a4363308c5396514275535ed770716c2\u0027\n\nprint(\u0027标的资产   \u0027 + BusinessVal.underlyingAsset)\nprint(\u0027敲出比例   \u0027 + str(BusinessVal.knockOutRatio))\nprint(\u0027敲入比例   \u0027 + str(BusinessVal.knockInRatio))\nprint(\u0027期限   \u0027 + str(BusinessVal.timeLimit))\nprint(\u0027回测起始时间   \u0027 + BusinessVal.startDate)\nprint(\u0027回测终止时间   \u0027 + BusinessVal.endDate)\n",
      "metadata": {
        "pycharm": {
          "metadata": false,
          "name": "#%% \n",
          "is_executing": false
        }
      }
    },
    {
      "cell_type": "code",
      "execution_count": 25,
      "metadata": {
        "collapsed": true,
        "pycharm": {
          "is_executing": false
        }
      },
      "outputs": [
        {
          "name": "stdout",
          "text": [
            "        ts_code trade_date      close       open       high        low  \\\n2522  000001.SH   20100104  3243.7600  3289.7500  3295.2790  3243.3190   \n2521  000001.SH   20100105  3282.1790  3254.4680  3290.5120  3221.4620   \n2520  000001.SH   20100106  3254.2150  3277.5170  3295.8680  3253.0440   \n2519  000001.SH   20100107  3192.7760  3253.9910  3268.8190  3176.7070   \n2518  000001.SH   20100108  3195.9970  3177.2590  3198.9200  3149.0170   \n...         ...        ...        ...        ...        ...        ...   \n4     000001.SH   20200518  2875.4176  2872.5244  2889.9795  2862.2709   \n3     000001.SH   20200519  2898.5760  2897.6867  2900.2187  2887.5768   \n2     000001.SH   20200520  2883.7378  2896.4657  2896.4657  2876.1766   \n1     000001.SH   20200521  2867.9237  2890.7213  2891.5177  2864.2073   \n0     000001.SH   20200522  2813.7654  2863.0462  2863.0462  2808.0177   \n\n      pre_close   change  pct_chg          vol        amount  \n2522  3277.1390 -33.3790  -1.0185  109447927.0  1.337735e+08  \n2521  3243.7600  38.4190   1.1844  126115066.0  1.618582e+08  \n2520  3282.1790 -27.9640  -0.8520  123651384.0  1.580401e+08  \n2519  3254.2150 -61.4390  -1.8880  128652827.0  1.572296e+08  \n2518  3192.7760   3.2210   0.1009   98377147.0  1.217399e+08  \n...         ...      ...      ...          ...           ...  \n4     2868.4587   6.9589   0.2426  226022882.0  2.890896e+08  \n3     2875.4176  23.1584   0.8054  197222405.0  2.562778e+08  \n2     2898.5760 -14.8382  -0.5119  210519985.0  2.691766e+08  \n1     2883.7378 -15.8141  -0.5484  203532038.0  2.505699e+08  \n0     2867.9237 -54.1583  -1.8884  209063712.0  2.452296e+08  \n\n[2523 rows x 11 columns]\n"
          ],
          "output_type": "stream"
        }
      ],
      "source": "\u0027\u0027\u0027\n获取行情数据\n\u0027\u0027\u0027\nts.set_token(TechVal.tushareToken)\npro \u003d ts.pro_api()\n# 获取上证指数 2010至今的数据\ndf \u003d pro.index_daily(ts_code\u003dBusinessVal.underlyingAsset, start_date \u003d BusinessVal.startDate, end_date\u003dBusinessVal.endDate)\n# 行反转\ndf \u003d df.reindex(index\u003ddf.index[::-1])\nprint(df)\n"
    },
    {
      "cell_type": "code",
      "execution_count": 27,
      "outputs": [
        {
          "name": "stdout",
          "text": [
            "     exchange  cal_date  is_open\n0         SSE  19901219        1\n1         SSE  19901220        1\n2         SSE  19901221        1\n3         SSE  19901224        1\n4         SSE  19901225        1\n...       ...       ...      ...\n7338      SSE  20201225        1\n7339      SSE  20201228        1\n7340      SSE  20201229        1\n7341      SSE  20201230        1\n7342      SSE  20201231        1\n\n[7343 rows x 3 columns]\n"
          ],
          "output_type": "stream"
        }
      ],
      "source": "\u0027\u0027\u0027\n定义一个函数，获取最近的一个交易日\n\u0027\u0027\u0027\ndf_trade_cal \u003d pro.trade_cal(is_open\u003d\u00271\u0027)\nprint(df_trade_cal)\n\ndef getLeastTradeDate(inData):\n    \u0027\u0027\u0027\n    获取传入日期的最近一个交易日\n    :param inData: 传入日期\n    :return: outDate\n    \u0027\u0027\u0027\n    outDate \u003d np.where(df_trade_cal.cal_date \u003d inData)\n    return outDate\n\nprint(getLeastTradeDate())    \n    ",
      "metadata": {
        "pycharm": {
          "metadata": false,
          "name": "#%%\n",
          "is_executing": false
        }
      }
    },
    {
      "cell_type": "code",
      "execution_count": 24,
      "outputs": [
        {
          "name": "stdout",
          "text": [
            "ts_code         000001.SH\ntrade_date       20100104\nclose             3243.76\nopen              3289.75\nhigh              3295.28\nlow               3243.32\npre_close         3277.14\nchange            -33.379\npct_chg           -1.0185\nvol           1.09448e+08\namount        1.33773e+08\nName: 2522, dtype: object\n20100104\n3289.75\n3289.75\n2631.8\n"
          ],
          "output_type": "stream"
        }
      ],
      "source": "\n# 敲出比例\nknockOutRatio \u003d 1.00\n# 敲入比例\nknockInRatio \u003d 0.80\n\nfor index, row in df.iterrows():\n    print(row)\n    # 锚定日期\n    anchorDay \u003d row[\u0027trade_date\u0027]\n    print(anchorDay)\n    # 锚定价格\n    anchorPrice \u003d row[\u0027close\u0027]\n    print(anchorPrice)\n    # 敲出价格\n    knockOutPrice \u003d anchorPrice * knockOutRatio\n    print(knockOutPrice)\n    # 敲入价格\n    knockInPrice \u003d anchorPrice * knockInRatio\n    print(knockInPrice)\n    break;\n    \n\n",
      "metadata": {
        "pycharm": {
          "metadata": false,
          "name": "#%%\n",
          "is_executing": false
        }
      }
    }
  ],
  "metadata": {
    "language_info": {
      "codemirror_mode": {
        "name": "ipython",
        "version": 2
      },
      "file_extension": ".py",
      "mimetype": "text/x-python",
      "name": "python",
      "nbconvert_exporter": "python",
      "pygments_lexer": "ipython2",
      "version": "2.7.6"
    },
    "kernelspec": {
      "name": "python3",
      "language": "python",
      "display_name": "Python 3"
    },
    "stem_cell": {
      "cell_type": "raw",
      "source": "",
      "metadata": {
        "pycharm": {
          "metadata": false
        }
      }
    }
  },
  "nbformat": 4,
  "nbformat_minor": 0
}