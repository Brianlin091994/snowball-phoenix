{
 "cells": [
  {
   "cell_type": "code",
   "execution_count": 81,
   "outputs": [
    {
     "name": "stdout",
     "text": [
      "标的资产   000001.SH\n",
      "敲出比例   1.0\n",
      "敲入比例   0.8\n",
      "期限   12\n",
      "回测起始时间   20100101\n",
      "回测终止时间   20200522\n"
     ],
     "output_type": "stream"
    }
   ],
   "source": [
    "'''\n",
    "设置全局的变量\n",
    "导入包\n",
    "'''\n",
    "import tushare as ts\n",
    "import datetime\n",
    "from dateutil.relativedelta import relativedelta\n",
    "\n",
    "# 全局的业务变量\n",
    "class BusinessVal:\n",
    "    # 标的资产，暂时只支持标的资产是一种指数\n",
    "    underlyingAsset = '000001.SH'\n",
    "    # 敲出比例\n",
    "    knockOutRatio = 1.00\n",
    "    # 敲入比例\n",
    "    knockInRatio = 0.80\n",
    "    # 期限，单位是月\n",
    "    timeLimit = 12\n",
    "    # start_date\n",
    "    startDate = '20100101'\n",
    "    # end_date\n",
    "    endDate='20200522'\n",
    "    # 月利率\n",
    "    monthlyRate = 0.1\n",
    "    # 保证金\n",
    "    deposit = 20\n",
    "    # 名义本金倍数，名义本金除以保证金\n",
    "    multiple = 5\n",
    "\n",
    "# 全局的技术变量\n",
    "class TechVal:\n",
    "    # tushare_token\n",
    "    tushareToken = '19280d5f247ae49caae39e24a4363308c5396514275535ed770716c2'\n",
    "\n",
    "# 初始化 tushare\n",
    "ts.set_token(TechVal.tushareToken)\n",
    "pro = ts.pro_api()\n",
    "\n",
    "print('标的资产   ' + BusinessVal.underlyingAsset)\n",
    "print('敲出比例   ' + str(BusinessVal.knockOutRatio))\n",
    "print('敲入比例   ' + str(BusinessVal.knockInRatio))\n",
    "print('期限   ' + str(BusinessVal.timeLimit))\n",
    "print('回测起始时间   ' + BusinessVal.startDate)\n",
    "print('回测终止时间   ' + BusinessVal.endDate)\n"
   ],
   "metadata": {
    "pycharm": {
     "metadata": false,
     "name": "#%% \n",
     "is_executing": false
    }
   }
  },
  {
   "cell_type": "code",
   "execution_count": 82,
   "metadata": {
    "collapsed": true,
    "pycharm": {
     "is_executing": false
    }
   },
   "outputs": [
    {
     "name": "stdout",
     "text": [
      "        ts_code trade_date      close       open       high        low  \\\n",
      "2522  000001.SH   20100104  3243.7600  3289.7500  3295.2790  3243.3190   \n",
      "2521  000001.SH   20100105  3282.1790  3254.4680  3290.5120  3221.4620   \n",
      "2520  000001.SH   20100106  3254.2150  3277.5170  3295.8680  3253.0440   \n",
      "2519  000001.SH   20100107  3192.7760  3253.9910  3268.8190  3176.7070   \n",
      "2518  000001.SH   20100108  3195.9970  3177.2590  3198.9200  3149.0170   \n",
      "...         ...        ...        ...        ...        ...        ...   \n",
      "4     000001.SH   20200518  2875.4176  2872.5244  2889.9795  2862.2709   \n",
      "3     000001.SH   20200519  2898.5760  2897.6867  2900.2187  2887.5768   \n",
      "2     000001.SH   20200520  2883.7378  2896.4657  2896.4657  2876.1766   \n",
      "1     000001.SH   20200521  2867.9237  2890.7213  2891.5177  2864.2073   \n",
      "0     000001.SH   20200522  2813.7654  2863.0462  2863.0462  2808.0177   \n",
      "\n",
      "      pre_close   change  pct_chg          vol        amount  \n",
      "2522  3277.1390 -33.3790  -1.0185  109447927.0  1.337735e+08  \n",
      "2521  3243.7600  38.4190   1.1844  126115066.0  1.618582e+08  \n",
      "2520  3282.1790 -27.9640  -0.8520  123651384.0  1.580401e+08  \n",
      "2519  3254.2150 -61.4390  -1.8880  128652827.0  1.572296e+08  \n",
      "2518  3192.7760   3.2210   0.1009   98377147.0  1.217399e+08  \n",
      "...         ...      ...      ...          ...           ...  \n",
      "4     2868.4587   6.9589   0.2426  226022882.0  2.890896e+08  \n",
      "3     2875.4176  23.1584   0.8054  197222405.0  2.562778e+08  \n",
      "2     2898.5760 -14.8382  -0.5119  210519985.0  2.691766e+08  \n",
      "1     2883.7378 -15.8141  -0.5484  203532038.0  2.505699e+08  \n",
      "0     2867.9237 -54.1583  -1.8884  209063712.0  2.452296e+08  \n",
      "\n",
      "[2523 rows x 11 columns]\n"
     ],
     "output_type": "stream"
    }
   ],
   "source": [
    "'''\n",
    "获取行情数据\n",
    "'''\n",
    "quote = pro.index_daily(ts_code=BusinessVal.underlyingAsset, start_date = BusinessVal.startDate, end_date=BusinessVal.endDate)\n",
    "# 行反转\n",
    "quote = quote.reindex(index=quote.index[::-1])\n",
    "print(quote)\n"
   ]
  },
  {
   "cell_type": "code",
   "execution_count": 83,
   "outputs": [
    {
     "name": "stdout",
     "text": [
      "     exchange  cal_date  is_open\n",
      "0         SSE  19901219        1\n",
      "1         SSE  19901220        1\n",
      "2         SSE  19901221        1\n",
      "3         SSE  19901224        1\n",
      "4         SSE  19901225        1\n",
      "...       ...       ...      ...\n",
      "7338      SSE  20201225        1\n",
      "7339      SSE  20201228        1\n",
      "7340      SSE  20201229        1\n",
      "7341      SSE  20201230        1\n",
      "7342      SSE  20201231        1\n",
      "\n",
      "[7343 rows x 3 columns]\n"
     ],
     "output_type": "stream"
    }
   ],
   "source": [
    "'''\n",
    "定义一个函数，获取最近的一个交易日\n",
    "'''\n",
    "# 交易日历\n",
    "tradeCalendar = pro.trade_cal(is_open='1')\n",
    "print(tradeCalendar)\n",
    "\n",
    "def getLeastTradeDate(searchData):\n",
    "    '''\n",
    "    获取searchData的在未来最近一个交易日\n",
    "    :param searchData: 传入日期\n",
    "    :return: outDate\n",
    "    '''\n",
    "    \n",
    "    # 如果结果是空，说明不是交易日\n",
    "    while (tradeCalendar.loc[tradeCalendar['cal_date'] == searchData]).empty:\n",
    "        searchData = (datetime.datetime.strptime(searchData,'%Y%m%d') + relativedelta(days=1)).strftime('%Y%m%d')\n",
    "    \n",
    "    rntDate = searchData\n",
    "    return rntDate\n",
    "\n",
    "def isTradeDate(checkDate):\n",
    "    '''\n",
    "    判断checkData是否是交易日\n",
    "    :param checkDate: \n",
    "    :return: \n",
    "    '''\n",
    "    # 如果结果是空，说明不是交易日\n",
    "    if (tradeCalendar.loc[tradeCalendar['cal_date'] == checkDate]).empty:\n",
    "        return False\n",
    "    else:\n",
    "        return True\n",
    "    "
   ],
   "metadata": {
    "pycharm": {
     "metadata": false,
     "name": "#%%\n",
     "is_executing": false
    }
   }
  },
  {
   "cell_type": "code",
   "execution_count": 84,
   "outputs": [],
   "source": [
    "# 模拟\n",
    "def simulate(anchorDate,anchorPrice,knockOutPrice,knockInPrice,observeList):\n",
    "    '''\n",
    "    模拟\n",
    "    :param anchorDate: 锚定日期\n",
    "    :param anchorPrice: 锚定价格\n",
    "    :param knockOutPrice: 敲出价格\n",
    "    :param knockInPrice: 敲入价格\n",
    "    :param observeList: 观察日列表\n",
    "    :return: 生成word文档\n",
    "    '''\n",
    "    # 是否曾经敲入过\n",
    "    isKnockIn = False\n",
    "    # 是否曾经敲出过\n",
    "    isKnockOut = False\n",
    "    # 模拟日期\n",
    "    simulateDate = anchorDate\n",
    "    # 如果没到期\n",
    "    while datetime.datetime.strptime(simulateDate,'%Y%m%d') <= datetime.datetime.strptime(observeList[-1],'%Y%m%d'):\n",
    "        # 如果不是交易日\n",
    "        if not isTradeDate(checkDate=simulateDate):\n",
    "            simulateDate = (datetime.datetime.strptime(simulateDate,'%Y%m%d') + relativedelta(days=1)).strftime('%Y%m%d')\n",
    "            continue\n",
    "        # 如果是交易日\n",
    "        # 获取行情数据\n",
    "        simulateQuote = quote.loc[quote['trade_date'] == simulateDate]\n",
    "        # 判断是否敲入\n",
    "        if simulateQuote['close'].values[0] < knockInPrice:\n",
    "           isKnockIn = True\n",
    "        # 判断是否是观察日\n",
    "        if simulateDate in observeList:\n",
    "            \n",
    "        \n",
    "        \n",
    "        simulateDate = (datetime.datetime.strptime(simulateDate,'%Y%m%d') + relativedelta(days=1)).strftime('%Y%m%d')\n",
    "        \n",
    "        \n",
    "    "
   ],
   "metadata": {
    "pycharm": {
     "metadata": false,
     "name": "#%%\n",
     "is_executing": false
    }
   }
  },
  {
   "cell_type": "code",
   "execution_count": 85,
   "outputs": [
    {
     "name": "stdout",
     "text": [
      "ts_code         000001.SH\n",
      "trade_date       20100104\n",
      "close             3243.76\n",
      "open              3289.75\n",
      "high              3295.28\n",
      "low               3243.32\n",
      "pre_close         3277.14\n",
      "change            -33.379\n",
      "pct_chg           -1.0185\n",
      "vol           1.09448e+08\n",
      "amount        1.33773e+08\n",
      "Name: 2522, dtype: object\n",
      "20100104\n",
      "3243.76\n",
      "3243.76\n",
      "2595.0080000000003\n",
      "['20100204', '20100304', '20100406', '20100504', '20100604', '20100705', '20100804', '20100906', '20101008', '20101104', '20101206', '20110104']\n"
     ],
     "output_type": "stream"
    }
   ],
   "source": [
    "\n",
    "for index, row in quote.iterrows():\n",
    "    print(row)\n",
    "    # 锚定日期\n",
    "    anchorDate = row['trade_date']\n",
    "    print(anchorDate)\n",
    "    # 锚定价格\n",
    "    anchorPrice = row['close']\n",
    "    print(anchorPrice)\n",
    "    # 敲出价格\n",
    "    knockOutPrice = anchorPrice * BusinessVal.knockOutRatio\n",
    "    print(knockOutPrice)\n",
    "    # 敲入价格\n",
    "    knockInPrice = anchorPrice * BusinessVal.knockInRatio\n",
    "    print(knockInPrice)\n",
    "    # 观察日列表\n",
    "    observeList = []\n",
    "    for i in range(1,BusinessVal.timeLimit + 1,1):\n",
    "        observeList.append(getLeastTradeDate((datetime.datetime.strptime(anchorDate,'%Y%m%d') + relativedelta(months=i)).strftime('%Y%m%d')))\n",
    "    print(observeList)\n",
    "    simulate(anchorDate,anchorPrice,knockOutPrice,knockInPrice,observeList)\n",
    "    break;"
   ],
   "metadata": {
    "pycharm": {
     "metadata": false,
     "name": "#%%\n",
     "is_executing": false
    }
   }
  }
 ],
 "metadata": {
  "language_info": {
   "codemirror_mode": {
    "name": "ipython",
    "version": 2
   },
   "file_extension": ".py",
   "mimetype": "text/x-python",
   "name": "python",
   "nbconvert_exporter": "python",
   "pygments_lexer": "ipython2",
   "version": "2.7.6"
  },
  "kernelspec": {
   "name": "python3",
   "language": "python",
   "display_name": "Python 3"
  },
  "stem_cell": {
   "cell_type": "raw",
   "source": "",
   "metadata": {
    "pycharm": {
     "metadata": false
    }
   }
  },
  "pycharm": {
   "stem_cell": {
    "cell_type": "raw",
    "source": [],
    "metadata": {
     "collapsed": false
    }
   }
  }
 },
 "nbformat": 4,
 "nbformat_minor": 0
}