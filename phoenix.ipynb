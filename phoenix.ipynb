{
  "cells": [
    {
      "cell_type": "code",
      "execution_count": 8,
      "outputs": [
        {
          "name": "stdout",
          "text": [
            "导入包\n"
          ],
          "output_type": "stream"
        }
      ],
      "source": [
        "\u0027\u0027\u0027\n",
        "导入包\n",
        "\u0027\u0027\u0027\n",
        "import tushare as ts\n",
        "import datetime\n",
        "from dateutil.relativedelta import relativedelta\n",
        "import openpyxl\n",
        "from decimal import Decimal\n",
        "\n",
        "print(\u0027导入包\u0027)"
      ],
      "metadata": {
        "pycharm": {
          "metadata": false,
          "name": "#%% \n",
          "is_executing": false
        }
      }
    },
    {
      "cell_type": "code",
      "execution_count": null,
      "outputs": [
        {
          "name": "stdout",
          "text": [
            "标的资产   000001.SH\n敲出比例   1.00\n敲入比例   0.90\n期限   3\n模拟开始日期   20190101\n模拟停止日期   20200531\n月利率   0.1\n保证金   20\n杠杆倍数   5\n"
          ],
          "output_type": "stream"
        }
      ],
      "source": "# 全局的业务变量\nclass BusinessVal:\n    # 标的资产，暂时只支持标的资产是一种指数\n    underlyingAsset \u003d \u0027000001.SH\u0027\n    # 敲入比例\n    knockInRatio \u003d Decimal(\u00270.90\u0027)\n    # 敲出比例\n    knockOutRatio \u003d Decimal(\u00271.00\u0027)\n    # 期限，单位是月\n    timeLimit \u003d 3\n    # start_date\n    startDate \u003d \u002720190101\u0027\n    # end_date\n    endDate \u003d \u002720200531\u0027\n    # 月利率\n    monthlyRate \u003d Decimal(\u00270.1\u0027)\n    # 保证金\n    deposit \u003d Decimal(\u002720\u0027)\n    # 名义本金倍数，名义本金除以保证金\n    multiple \u003d Decimal(\u00275\u0027)\n\n# 全局的技术变量\nclass TechVal:\n    # tushare_token\n    tushareToken \u003d \u0027your token\u0027\n    unKnowTradeDate \u003d \u0027无法确定交易日\u0027\n\nprint(\u0027标的资产\u0027 + \u0027 \u0027 * 3 + str(BusinessVal.underlyingAsset))\nprint(\u0027敲出比例\u0027 + \u0027 \u0027 * 3 + str(BusinessVal.knockOutRatio))\nprint(\u0027敲入比例\u0027 + \u0027 \u0027 * 3 + str(BusinessVal.knockInRatio))\nprint(\u0027期限\u0027 + \u0027 \u0027 * 3 + str(BusinessVal.timeLimit))\nprint(\u0027模拟开始日期\u0027 + \u0027 \u0027 * 3 + str(BusinessVal.startDate))\nprint(\u0027模拟停止日期\u0027 + \u0027 \u0027 * 3 + str(BusinessVal.endDate))\nprint(\u0027月利率\u0027 + \u0027 \u0027 * 3 + str(BusinessVal.monthlyRate))\nprint(\u0027保证金\u0027 + \u0027 \u0027 * 3 + str(BusinessVal.deposit))\nprint(\u0027杠杆倍数\u0027 + \u0027 \u0027 * 3 + str(BusinessVal.multiple))",
      "metadata": {
        "collapsed": false,
        "pycharm": {
          "name": "#%%\n",
          "is_executing": true
        }
      }
    },
    {
      "cell_type": "code",
      "execution_count": null,
      "outputs": [
        {
          "name": "stdout",
          "text": [
            "初始化tushare\n"
          ],
          "output_type": "stream"
        }
      ],
      "source": [
        "# 初始化 tushare\n",
        "ts.set_token(TechVal.tushareToken)\n",
        "pro \u003d ts.pro_api()\n",
        "\n",
        "print(\u0027初始化tushare\u0027)"
      ],
      "metadata": {
        "collapsed": false,
        "pycharm": {
          "name": "#%%\n",
          "is_executing": true
        }
      }
    },
    {
      "cell_type": "code",
      "execution_count": 11,
      "outputs": [
        {
          "name": "stdout",
          "text": [
            "       ts_code trade_date      close       open       high        low  \\\n340  000001.SH   20190102  2465.2910  2497.8805  2500.2783  2456.4233   \n339  000001.SH   20190103  2464.3628  2461.7829  2488.4790  2455.9256   \n338  000001.SH   20190104  2514.8682  2446.0193  2515.3160  2440.9066   \n337  000001.SH   20190107  2533.0887  2528.6987  2536.9775  2515.5083   \n336  000001.SH   20190108  2526.4622  2530.3001  2531.3450  2520.1648   \n..         ...        ...        ...        ...        ...        ...   \n4    000001.SH   20200525  2817.9697  2816.2410  2821.4978  2802.4653   \n3    000001.SH   20200526  2846.5473  2827.8967  2848.3371  2825.9010   \n2    000001.SH   20200527  2836.8036  2847.3198  2848.9965  2831.9281   \n1    000001.SH   20200528  2846.2217  2838.2072  2861.9241  2820.1455   \n0    000001.SH   20200529  2852.3512  2835.5840  2855.3756  2829.6271   \n\n     pre_close   change  pct_chg          vol       amount  \n340  2493.8962 -28.6052  -1.1470  109932013.0   97592572.0  \n339  2465.2910  -0.9282  -0.0377  124397497.0  106922789.5  \n338  2464.3628  50.5054   2.0494  168877667.0  139298675.0  \n337  2514.8682  18.2205   0.7245  177305010.0  145513241.6  \n336  2533.0886  -6.6264  -0.2616  158099181.0  123379039.8  \n..         ...      ...      ...          ...          ...  \n4    2813.7654   4.2043   0.1494  172885557.0  202115352.6  \n3    2817.9697  28.5776   1.0141  174562369.0  207427833.7  \n2    2846.5473  -9.7437  -0.3423  198149343.0  227934395.7  \n1    2836.8036   9.4181   0.3320  207546019.0  239234260.6  \n0    2846.2217   6.1295   0.2154  206792804.0  233798996.6  \n\n[341 rows x 11 columns]\n"
          ],
          "output_type": "stream"
        }
      ],
      "source": [
        "\u0027\u0027\u0027\n",
        "获取行情数据\n",
        "\u0027\u0027\u0027\n",
        "quote \u003d pro.index_daily(ts_code\u003dBusinessVal.underlyingAsset, start_date \u003d BusinessVal.startDate, end_date\u003dBusinessVal.endDate)\n",
        "# 行反转，这样第一行是最早的日期\n",
        "quote \u003d quote.reindex(index\u003dquote.index[::-1])\n",
        "print(quote)"
      ],
      "metadata": {
        "collapsed": false,
        "pycharm": {
          "name": "#%%\n",
          "is_executing": false
        }
      }
    },
    {
      "cell_type": "code",
      "execution_count": 12,
      "outputs": [
        {
          "name": "stdout",
          "text": [
            "     exchange  cal_date  is_open\n0         SSE  19901219        1\n1         SSE  19901220        1\n2         SSE  19901221        1\n3         SSE  19901224        1\n4         SSE  19901225        1\n...       ...       ...      ...\n7338      SSE  20201225        1\n7339      SSE  20201228        1\n7340      SSE  20201229        1\n7341      SSE  20201230        1\n7342      SSE  20201231        1\n\n[7343 rows x 3 columns]\n"
          ],
          "output_type": "stream"
        }
      ],
      "source": [
        "\u0027\u0027\u0027\n",
        "定义一个函数，获取最近的一个交易日\n",
        "\u0027\u0027\u0027\n",
        "# 交易日历\n",
        "tradeCalendar \u003d pro.trade_cal(is_open\u003d\u00271\u0027)\n",
        "print(tradeCalendar)\n",
        "\n",
        "lastTradeData \u003d tradeCalendar.iloc[[-1]][\u0027cal_date\u0027].values[0]\n",
        "\n",
        "def getLeastTradeDate(searchData):\n",
        "    \u0027\u0027\u0027\n",
        "    获取searchData的在未来最近一个交易日\n",
        "    :param searchData: 传入日期\n",
        "    :return: outDate\n",
        "    \u0027\u0027\u0027\n",
        "    \n",
        "    if datetime.datetime.strptime(searchData,\u0027%Y%m%d\u0027) \u003e datetime.datetime.strptime(lastTradeData,\u0027%Y%m%d\u0027):\n",
        "        return TechVal.unKnowTradeDate\n",
        "    \n",
        "    # 如果结果是空，说明不是交易日\n",
        "    while (tradeCalendar.loc[tradeCalendar[\u0027cal_date\u0027] \u003d\u003d searchData]).empty:\n",
        "        searchData \u003d (datetime.datetime.strptime(searchData,\u0027%Y%m%d\u0027) + relativedelta(days\u003d1)).strftime(\u0027%Y%m%d\u0027)\n",
        "        if datetime.datetime.strptime(searchData,\u0027%Y%m%d\u0027) \u003e datetime.datetime.strptime(lastTradeData,\u0027%Y%m%d\u0027):\n",
        "            return TechVal.unKnowTradeDate\n",
        "    \n",
        "    rntDate \u003d searchData\n",
        "    return rntDate\n",
        "\n",
        "def isTradeDate(checkDate):\n",
        "    \u0027\u0027\u0027\n",
        "    判断checkData是否是交易日\n",
        "    :param checkDate: \n",
        "    :return: \n",
        "    \u0027\u0027\u0027\n",
        "    # 如果结果是空，说明不是交易日\n",
        "    if (tradeCalendar.loc[tradeCalendar[\u0027cal_date\u0027] \u003d\u003d checkDate]).empty:\n",
        "        return False\n",
        "    else:\n",
        "        return True\n",
        "    "
      ],
      "metadata": {
        "collapsed": false,
        "pycharm": {
          "name": "#%%\n",
          "is_executing": false
        }
      }
    },
    {
      "cell_type": "code",
      "execution_count": 13,
      "outputs": [
        {
          "name": "stdout",
          "text": [
            "定义模拟器\n"
          ],
          "output_type": "stream"
        }
      ],
      "source": "# 模拟\ndef simulate(anchorDate,anchorPrice,knockOutPrice,knockInPrice,observeList):\n    \u0027\u0027\u0027\n    模拟\n    :param anchorDate: 锚定日期\n    :param anchorPrice: 锚定价格\n    :param knockOutPrice: 敲出价格\n    :param knockInPrice: 敲入价格\n    :param observeList: 观察日列表\n    :return: \n    \u0027\u0027\u0027\n    # 是否曾经敲入过\n    isKnockIn \u003d False\n    # 是否曾经敲出过\n    isKnockOut \u003d False\n    # 模拟日期\n    simulateDate \u003d anchorDate\n    # 到期日\n    endDate \u003d observeList[-1]\n    # 如果没到期\n    observeIndex \u003d 0\n    # 敲入信息\n    knockInList \u003d []\n    knockOutList \u003d []\n    \n    for simulateDate in observeList:\n        observeIndex \u003d observeIndex + 1\n        if datetime.datetime.strptime(simulateDate,\u0027%Y%m%d\u0027) \u003e datetime.datetime.strptime(lastQuoteDate,\u0027%Y%m%d\u0027):\n            if (isKnockIn \u003d\u003d False) and (isKnockOut \u003d\u003d False):\n                payType \u003d \u0027没有敲入，没有敲出\u0027\n                payDate \u003d \u0027截止\u0027 + lastQuoteDate + \u0027未到期\u0027\n                payOff \u003d \u0027\u0027\n                # return (payType,payDate,payOff)\n                break\n            if (isKnockIn \u003d\u003d True) and (isKnockOut \u003d\u003d False):\n                payType \u003d \u0027有敲入，没有敲出\u0027\n                payDate \u003d \u0027截止\u0027 + lastQuoteDate + \u0027未到期\u0027\n                payOff \u003d \u0027\u0027\n                # return (payType,payDate,payOff)\n                break\n        # 获取该日期行情数据\n        simulateQuote \u003d quote.loc[quote[\u0027trade_date\u0027] \u003d\u003d simulateDate]\n        # 判断是否敲入\n        if simulateQuote[\u0027close\u0027].values[0] \u003c knockInPrice:\n            # 记录敲入信息\n            knockInList.append(simulateDate + \u0027:\u0027 + str(simulateQuote[\u0027close\u0027].values[0]))\n            isKnockIn \u003d True\n        # 判断是否敲出\n        if simulateQuote[\u0027close\u0027].values[0] \u003e knockOutPrice:\n            knockOutList.append(simulateDate + \u0027:\u0027 + str(simulateQuote[\u0027close\u0027].values[0]))\n            isKnockOut \u003d True\n        # 没有敲入，没有敲出\n        if isKnockIn \u003d\u003d False and (isKnockOut \u003d\u003d False and (simulateDate \u003d\u003d endDate)):\n            payType \u003d \u0027没有敲入，没有敲出\u0027\n            payDate \u003d simulateDate\n            payOff \u003d BusinessVal.deposit + observeIndex * BusinessVal.deposit * BusinessVal.monthlyRate * BusinessVal.multiple\n            # return (payType,payDate,payOff)\n            break\n        # 没有敲入，有敲出\n        if isKnockIn \u003d\u003d False and isKnockOut \u003d\u003d True:\n            payType \u003d \u0027没有敲入，有敲出\u0027\n            payDate \u003d simulateDate\n            payOff \u003d BusinessVal.deposit + observeIndex * BusinessVal.deposit * BusinessVal.monthlyRate * BusinessVal.multiple\n            # return (payType,payDate,payOff)\n            break\n        # 有敲入，有敲出\n        if isKnockIn \u003d\u003d True and isKnockOut \u003d\u003d True:\n            payType \u003d \u0027有敲入，有敲出\u0027\n            payDate \u003d simulateDate\n            payOff \u003d BusinessVal.deposit + (observeIndex - len(knockInPrice)) * BusinessVal.deposit * BusinessVal.monthlyRate * BusinessVal.multiple\n            # return (payType,payDate,payOff)\n            break\n        # 有敲入，没有敲出\n        if isKnockIn \u003d\u003d True and (isKnockOut \u003d\u003d False and (simulateDate \u003d\u003d endDate)):\n            payType \u003d \u0027有敲入，没有敲出\u0027\n            payDate \u003d simulateDate\n            # 跌幅\n            dropPercent \u003d (anchorPrice -  Decimal(simulateQuote[\u0027close\u0027].values[0]))/anchorPrice\n            payOff \u003d BusinessVal.deposit + (observeIndex - len(knockInList)) * BusinessVal.deposit - BusinessVal.deposit * dropPercent * BusinessVal.multiple\n            # return (payType,payDate,payOff)\n            break\n            \n    return (payType,payDate,payOff,isKnockIn,isKnockOut,knockInList,knockOutList)\n\n\nprint(\u0027定义模拟器\u0027)",
      "metadata": {
        "collapsed": false,
        "pycharm": {
          "name": "#%% \n",
          "is_executing": false
        }
      }
    },
    {
      "cell_type": "code",
      "execution_count": 14,
      "outputs": [
        {
          "name": "stdout",
          "text": [
            "20190102\n20190103\n20190104\n20190107\n20190108\n20190109\n20190110\n20190111\n20190114\n20190115\n20190116\n20190117\n20190118\n20190121\n20190122\n20190123\n20190124\n20190125\n20190128\n",
            "20190129\n20190130\n20190131\n20190201\n20190211\n20190212\n20190213\n20190214\n20190215\n20190218\n20190219\n20190220\n20190221\n20190222\n20190225\n20190226\n20190227\n20190228\n20190301\n20190304\n20190305\n",
            "20190306\n20190307\n20190308\n20190311\n20190312\n20190313\n20190314\n20190315\n20190318\n20190319\n20190320\n20190321\n20190322\n20190325\n20190326\n20190327\n20190328\n20190329\n20190401\n20190402\n",
            "20190403\n20190404\n20190408\n20190409\n20190410\n20190411\n20190412\n20190415\n20190416\n20190417\n20190418\n20190419\n20190422\n20190423\n20190424\n20190425\n20190426\n20190429",
            "\n20190430\n20190506\n20190507\n20190508\n20190509\n20190510\n20190513\n20190514\n20190515\n20190516\n20190517\n20190520\n20190521",
            "\n20190522\n20190523\n20190524\n20190527\n20190528\n20190529\n20190530\n20190531\n20190603\n20190604\n20190605\n20190606\n20190610\n20190611\n20190612\n20190613\n20190614\n20190617\n20190618\n20190619\n20190620\n",
            "20190621\n20190624\n20190625\n20190626\n20190627\n20190628\n20190701\n20190702\n20190703\n20190704\n20190705\n20190708\n20190709\n20190710",
            "\n20190711\n20190712\n20190715\n20190716\n20190717\n20190718\n20190719\n20190722\n20190723\n20190724\n20190725",
            "\n20190726\n20190729\n20190730\n20190731\n20190801\n20190802\n20190805\n20190806\n20190807\n20190808\n20190809",
            "\n20190812\n20190813\n20190814\n20190815\n20190816\n20190819\n20190820\n20190821\n20190822\n20190823\n20190826\n20190827",
            "\n20190828\n20190829\n20190830\n20190902\n20190903\n20190904\n20190905\n20190906",
            "\n20190909\n20190910\n20190911\n20190912\n20190916\n20190917\n20190918\n20190919\n20190920\n20190923\n",
            "20190924\n20190925\n20190926\n20190927\n20190930\n20191008\n20191009\n20191010\n20191011\n20191014\n",
            "20191015\n20191016\n20191017\n20191018\n20191021\n20191022\n20191023\n20191024\n20191025\n20191028\n20191029\n20191030\n",
            "20191031\n20191101\n20191104\n20191105\n20191106\n20191107\n20191108\n20191111\n20191112\n20191113\n20191114\n20191115\n20191118\n20191119\n20191120\n20191121\n20191122\n20191125\n20191126\n20191127",
            "\n20191128\n20191129\n20191202\n20191203\n20191204\n20191205\n20191206\n20191209\n20191210\n20191211\n20191212\n20191213\n20191216\n20191217\n20191218\n20191219\n20191220\n20191223",
            "\n20191224\n20191225\n20191226\n20191227\n20191230\n20191231\n20200102\n20200103\n20200106\n20200107",
            "\n20200108\n20200109\n20200110\n20200113\n20200114\n20200115\n20200116\n20200117\n20200120\n20200121\n20200122\n20200123\n20200203\n20200204",
            "\n20200205\n20200206\n20200207\n20200210\n20200211\n20200212\n20200213\n20200214\n20200217\n20200218\n20200219\n20200220\n20200221",
            "\n20200224\n20200225\n20200226\n20200227\n20200228\n20200302\n20200303\n20200304\n20200305\n20200306\n20200309\n20200310\n20200311\n20200312\n20200313",
            "\n20200316\n20200317\n20200318\n20200319\n20200320\n20200323\n20200324\n20200325\n20200326\n20200327\n20200330\n20200331\n20200401\n20200402",
            "\n20200403\n20200407\n20200408\n20200409\n20200410\n20200413\n20200414\n20200415\n20200416\n20200417\n20200420\n20200421\n20200422\n20200423\n20200424\n20200427\n20200428\n20200429\n20200430\n20200506\n",
            "20200507\n20200508\n20200511\n20200512\n20200513\n20200514\n20200515\n20200518\n20200519\n20200520\n20200521\n20200522\n20200525\n20200526\n20200527\n20200528\n20200529\n000001.SH 凤凰模拟-20200603193959.xlsx\n",
            "FINISH\n"
          ],
          "output_type": "stream"
        }
      ],
      "source": "wb \u003d openpyxl.Workbook()\nwsBase \u003d wb.active\nwsBase.title \u003d \u0027基础信息\u0027\nwsBase.append([\u0027标的资产\u0027,str(BusinessVal.underlyingAsset)])\nwsBase.append([\u0027敲入比例\u0027,str(BusinessVal.knockInRatio)])\nwsBase.append([\u0027敲出比例\u0027,str(BusinessVal.knockOutRatio)])\nwsBase.append([\u0027期限(月)\u0027,str(BusinessVal.timeLimit)])\nwsBase.append([\u0027模拟开始日期\u0027,str(BusinessVal.startDate)])\nwsBase.append([\u0027模拟停止日期\u0027,str(BusinessVal.endDate)])\nwsBase.append([\u0027月利率\u0027,str(BusinessVal.monthlyRate)])\nwsBase.append([\u0027保证金\u0027,str(BusinessVal.deposit)])\nwsBase.append([\u0027杠杆\u0027,str(BusinessVal.multiple)])\n\n# 最后一个行情日\nlastQuoteDate \u003d quote.iloc[[-1]][\u0027trade_date\u0027].values[0]\nwsBase.append([\u0027最后一个行情日\u0027,str(lastQuoteDate)])\n\nwsSim \u003d wb.create_sheet(title\u003d\u0027模拟结果\u0027)\nwsSim.append([\u0027锚定日期\u0027,\u0027锚定价格\u0027,\u0027敲入价格\u0027,\u0027敲出价格\u0027,\u0027观察日列表\u0027,\u0027观察日列表是否完整\u0027,\u0027结束类型\u0027,\u0027结束日期\u0027,\u0027本金收益和\u0027,\u0027是否有敲入\u0027,\u0027是否有敲出\u0027,\u0027敲入信息\u0027,\u0027敲出信息\u0027])\n\n# 遍历所有行情\nfor index, row in quote.iterrows():\n    # 锚定日期\n    anchorDate \u003d row[\u0027trade_date\u0027]\n    print(anchorDate)\n    # 锚定价格\n    anchorPrice \u003d Decimal(str(row[\u0027close\u0027]))\n    # 敲入价格\n    knockInPrice \u003d anchorPrice * BusinessVal.knockInRatio\n    # 敲出价格\n    knockOutPrice \u003d anchorPrice * BusinessVal.knockOutRatio\n    # 观察日列表\n    isObserveListComplete \u003d True\n    observeList \u003d []\n    for i in range(1,BusinessVal.timeLimit + 1,1):\n        observeDate \u003d getLeastTradeDate((datetime.datetime.strptime(anchorDate,\u0027%Y%m%d\u0027) + relativedelta(months\u003di)).strftime(\u0027%Y%m%d\u0027))\n        if observeDate !\u003d TechVal.unKnowTradeDate:\n            observeList.append(observeDate)\n        else:\n            isObserveListComplete \u003d False\n    payType,payDate,payOff,isKnockIn,isKnockOut,knockInList,knockOutList \u003d simulate(anchorDate,anchorPrice,knockOutPrice,knockInPrice,observeList)        \n    appendList \u003d []\n    # 锚定日期\n    appendList.append(str(anchorDate))\n    # 锚定价格\n    appendList.append(\u0027%.4f\u0027%anchorPrice)\n    # 敲入价格\n    appendList.append(\u0027%.4f\u0027%knockInPrice)\n    # 敲出价格\n    appendList.append(\u0027%.4f\u0027%knockOutPrice)\n    # 观察日列表\n    appendList.append(\u0027,\u0027.join(observeList))\n    # 观察日列表是否完整\n    if isObserveListComplete:\n        appendList.append(str(isObserveListComplete))\n    else:\n        appendList.append(str(isObserveListComplete))\n    # 结束类型\n    appendList.append(str(payType))\n    # 结束日期\n    appendList.append(str(payDate))\n    # 本金和收益的和\n    if payOff \u003d\u003d \u0027\u0027:\n        appendList.append(str(payOff))\n    else:\n        appendList.append(\u0027%.4f\u0027%payOff)\n    # 是否敲入\n    appendList.append((str(isKnockIn)))\n    # 是否敲出\n    appendList.append((str(isKnockOut)))\n    # 敲入信息\n    appendList.append(\u0027,\u0027.join(knockInList))\n    # 敲出信息\n    appendList.append(\u0027,\u0027.join(knockOutList))\n    # 写入sheet页\n    wsSim.append(appendList)\n    \nfileName \u003d BusinessVal.underlyingAsset + \u0027 \u0027 + \u0027凤凰模拟-\u0027 + datetime.datetime.now().strftime(\u0027%Y%m%d%H%M%S\u0027) + \u0027.xlsx\u0027\nprint(fileName)\nwb.save(fileName)\nquote.to_excel(BusinessVal.underlyingAsset + \u0027 \u0027 + \u0027凤凰行情-\u0027 + datetime.datetime.now().strftime(\u0027%Y%m%d%H%M%S\u0027) + \u0027.xlsx\u0027)\n\nprint(\u0027FINISH\u0027)",
      "metadata": {
        "collapsed": false,
        "pycharm": {
          "name": "#%%\n",
          "is_executing": false
        }
      }
    }
  ],
  "metadata": {
    "language_info": {
      "codemirror_mode": {
        "name": "ipython",
        "version": 2
      },
      "file_extension": ".py",
      "mimetype": "text/x-python",
      "name": "python",
      "nbconvert_exporter": "python",
      "pygments_lexer": "ipython2",
      "version": "2.7.6"
    },
    "kernelspec": {
      "name": "python3",
      "language": "python",
      "display_name": "Python 3"
    },
    "stem_cell": {
      "cell_type": "raw",
      "source": "",
      "metadata": {
        "pycharm": {
          "metadata": false
        }
      }
    },
    "pycharm": {
      "stem_cell": {
        "cell_type": "raw",
        "source": [],
        "metadata": {
          "collapsed": false
        }
      }
    }
  },
  "nbformat": 4,
  "nbformat_minor": 0
}